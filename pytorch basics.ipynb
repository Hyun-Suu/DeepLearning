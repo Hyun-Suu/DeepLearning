{
 "cells": [
  {
   "cell_type": "code",
   "execution_count": 1,
   "id": "6c4bd705",
   "metadata": {},
   "outputs": [],
   "source": [
    "import torch"
   ]
  },
  {
   "cell_type": "code",
   "execution_count": 20,
   "id": "c45611fd",
   "metadata": {},
   "outputs": [],
   "source": [
    "def print_val(x):\n",
    "    print(\"Type:\", type(x))\n",
    "    print(\"Shape:\", x.shape)\n",
    "    print(\"val:\", x)\n",
    "    print(\" \")"
   ]
  },
  {
   "cell_type": "code",
   "execution_count": 21,
   "id": "9b170f5f",
   "metadata": {},
   "outputs": [
    {
     "name": "stdout",
     "output_type": "stream",
     "text": [
      "('Type:', <class 'torch.Tensor'>)\n",
      "('Shape:', torch.Size([2, 3, 2]))\n",
      "('val:', tensor([[[0.6941, 0.9796],\n",
      "         [0.0439, 0.1287],\n",
      "         [0.4258, 0.0735]],\n",
      "\n",
      "        [[0.6221, 0.6575],\n",
      "         [0.0164, 0.5732],\n",
      "         [0.1230, 0.1497]]]))\n",
      " \n",
      "('Type:', <class 'torch.Tensor'>)\n",
      "('Shape:', torch.Size([2, 3]))\n",
      "('val:', tensor([[ 0.9027, -1.7575, -1.0849],\n",
      "        [ 0.4087,  0.3700, -1.0713]]))\n",
      " \n"
     ]
    }
   ],
   "source": [
    "x = torch.rand(2,3,2) # uniform 0~1 사이 모든 값들이 나올 확률이 같음\n",
    "print_val(x)\n",
    "\n",
    "x = torch.randn(2,3) # Gaussian: 0을 평균으로 하는 가우시안 분포를 따르는 랜덤값\n",
    "print_val(x)"
   ]
  },
  {
   "cell_type": "code",
   "execution_count": 22,
   "id": "17e70855",
   "metadata": {},
   "outputs": [
    {
     "name": "stdout",
     "output_type": "stream",
     "text": [
      "('Type:', <class 'torch.Tensor'>)\n",
      "('Shape:', torch.Size([4]))\n",
      "('val:', tensor([2, 3, 0, 1]))\n",
      " \n"
     ]
    }
   ],
   "source": [
    "x = torch.randperm(4) # 0 ~ n-1 까지 값을 원소로 갖는 배열 -> 랜덤 배열\n",
    "print_val(x)"
   ]
  },
  {
   "cell_type": "code",
   "execution_count": 23,
   "id": "21b4d374",
   "metadata": {},
   "outputs": [
    {
     "name": "stdout",
     "output_type": "stream",
     "text": [
      "('Type:', <class 'torch.Tensor'>)\n",
      "('Shape:', torch.Size([6]))\n",
      "('val:', tensor([0.0000, 0.5000, 1.0000, 1.5000, 2.0000, 2.5000]))\n",
      " \n"
     ]
    }
   ],
   "source": [
    "# [start, end] 구간을 step 단위로 나눠서 배열로 생성\n",
    "x = torch.arange(0, 3, step=0.5)\n",
    "print_val(x)"
   ]
  },
  {
   "cell_type": "code",
   "execution_count": 24,
   "id": "9c07bf61",
   "metadata": {},
   "outputs": [
    {
     "name": "stdout",
     "output_type": "stream",
     "text": [
      "('Type:', <class 'torch.Tensor'>)\n",
      "('Shape:', torch.Size([3, 4]))\n",
      "('val:', tensor([[1., 1., 1., 1.],\n",
      "        [1., 1., 1., 1.],\n",
      "        [1., 1., 1., 1.]]))\n",
      " \n",
      "('Type:', <class 'torch.Tensor'>)\n",
      "('Shape:', torch.Size([3, 4]))\n",
      "('val:', tensor([[0., 0., 0., 0.],\n",
      "        [0., 0., 0., 0.],\n",
      "        [0., 0., 0., 0.]]))\n",
      " \n"
     ]
    }
   ],
   "source": [
    "print_val( torch.ones(3,4) )\n",
    "print_val( torch.zeros(3,4) )"
   ]
  },
  {
   "cell_type": "code",
   "execution_count": 25,
   "id": "79319054",
   "metadata": {},
   "outputs": [
    {
     "name": "stdout",
     "output_type": "stream",
     "text": [
      "('Type:', <class 'torch.Tensor'>)\n",
      "('Shape:', torch.Size([2, 4]))\n",
      "('val:', tensor([[8.4939e-11, 4.5622e-41, 8.4939e-11, 4.5622e-41],\n",
      "        [5.9407e+13, 3.0964e-41, 5.6303e-11, 4.5622e-41]]))\n",
      " \n"
     ]
    }
   ],
   "source": [
    "print_val( torch.Tensor(2,4) )"
   ]
  },
  {
   "cell_type": "code",
   "execution_count": 26,
   "id": "77264dac",
   "metadata": {},
   "outputs": [
    {
     "name": "stdout",
     "output_type": "stream",
     "text": [
      "('Type:', <class 'torch.Tensor'>)\n",
      "('Shape:', torch.Size([2]))\n",
      "('val:', tensor([2., 3.]))\n",
      " \n",
      "('Type:', <class 'torch.Tensor'>)\n",
      "('Shape:', torch.Size([2, 2]))\n",
      "('val:', tensor([[2., 3.],\n",
      "        [3., 4.]]))\n",
      " \n"
     ]
    }
   ],
   "source": [
    "print_val( torch.Tensor([2,3]) )\n",
    "\n",
    "print_val( torch.Tensor([[2,3], [3,4]]) )"
   ]
  },
  {
   "cell_type": "code",
   "execution_count": 28,
   "id": "d81371a0",
   "metadata": {},
   "outputs": [
    {
     "name": "stdout",
     "output_type": "stream",
     "text": [
      "('Type:', <class 'torch.Tensor'>)\n",
      "('Shape:', torch.Size([2, 3]))\n",
      "('val:', tensor([[8.4939e-11, 4.5622e-41, 8.4939e-11],\n",
      "        [4.5622e-41, 3.6028e-17, 4.5622e-41]]))\n",
      " \n",
      "('Type:', <class 'torch.Tensor'>)\n",
      "('Shape:', torch.Size([2, 3]))\n",
      "('val:', tensor([[0, 0, 0],\n",
      "        [0, 0, 0]], dtype=torch.int32))\n",
      " \n"
     ]
    }
   ],
   "source": [
    "# 텐서 타입 변환\n",
    "x = torch.FloatTensor(2,3)\n",
    "print_val(x)\n",
    "\n",
    "x = x.type_as(torch.IntTensor())\n",
    "print_val(x)"
   ]
  },
  {
   "cell_type": "code",
   "execution_count": 30,
   "id": "72e1d560",
   "metadata": {},
   "outputs": [
    {
     "data": {
      "text/plain": [
       "torch.Size([3, 4, 5])"
      ]
     },
     "execution_count": 30,
     "metadata": {},
     "output_type": "execute_result"
    }
   ],
   "source": [
    "# 텐서 크기 변환\n",
    "torch. FloatTensor(3,4,5).size()"
   ]
  },
  {
   "cell_type": "code",
   "execution_count": 31,
   "id": "41a6edf1",
   "metadata": {},
   "outputs": [
    {
     "name": "stdout",
     "output_type": "stream",
     "text": [
      "('Type:', <type 'numpy.ndarray'>)\n",
      "('Shape:', (2, 3))\n",
      "('val:', array([[    25769803782,     25769803782,               6],\n",
      "       [    38654705664, 139832030049224,              12]]))\n",
      " \n",
      "('Type:', <class 'torch.Tensor'>)\n",
      "('Shape:', torch.Size([2, 3]))\n",
      "('val:', tensor([[    25769803782,     25769803782,               6],\n",
      "        [    38654705664, 139832030049224,              12]]))\n",
      " \n"
     ]
    }
   ],
   "source": [
    "# numpy array -> torch tensor\n",
    "import numpy as np\n",
    "np_x = np.ndarray((2,3), dtype=int)\n",
    "print_val(np_x)\n",
    "\n",
    "x = torch.from_numpy(np_x)\n",
    "print_val(x)"
   ]
  }
 ],
 "metadata": {
  "kernelspec": {
   "display_name": "conda_pytorch_p27",
   "language": "python",
   "name": "conda_pytorch_p27"
  },
  "language_info": {
   "codemirror_mode": {
    "name": "ipython",
    "version": 2
   },
   "file_extension": ".py",
   "mimetype": "text/x-python",
   "name": "python",
   "nbconvert_exporter": "python",
   "pygments_lexer": "ipython2",
   "version": "2.7.16"
  }
 },
 "nbformat": 4,
 "nbformat_minor": 5
}
