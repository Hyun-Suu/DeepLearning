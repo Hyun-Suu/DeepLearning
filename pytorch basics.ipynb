{
 "cells": [
  {
   "cell_type": "code",
   "execution_count": 1,
   "id": "214dedd0",
   "metadata": {},
   "outputs": [],
   "source": [
    "import torch"
   ]
  },
  {
   "cell_type": "code",
   "execution_count": 4,
   "id": "343b29ab",
   "metadata": {},
   "outputs": [],
   "source": [
    "def print_val(x):\n",
    "    print \"Type:\", type(x)\n",
    "    print \"Shape:\", x.shape\n",
    "    print \"값:\\n\", x\n",
    "    print \" \""
   ]
  },
  {
   "cell_type": "code",
   "execution_count": 5,
   "id": "35239d74",
   "metadata": {},
   "outputs": [
    {
     "name": "stdout",
     "output_type": "stream",
     "text": [
      "Type: <class 'torch.Tensor'>\n",
      "Shape: torch.Size([2, 3, 2])\n",
      "값:\n",
      "tensor([[[0.8018, 0.4229],\n",
      "         [0.1534, 0.0213],\n",
      "         [0.2429, 0.9586]],\n",
      "\n",
      "        [[0.6039, 0.7750],\n",
      "         [0.3191, 0.9378],\n",
      "         [0.9648, 0.6309]]])\n",
      " \n",
      "Type: <class 'torch.Tensor'>\n",
      "Shape: torch.Size([2, 3])\n",
      "값:\n",
      "tensor([[ 0.1745,  1.0494, -0.9304],\n",
      "        [ 1.6985, -1.4786, -0.2299]])\n",
      " \n"
     ]
    }
   ],
   "source": [
    "x = torch.rand(2,3,2) # uniform 0~1 사이 모든 값들이 나올 확률이 같음\n",
    "print_val(x)\n",
    "\n",
    "x = torch.randn(2,3) # Gaussian: 0을 평균으로 하는 가우시안 분포를 따르는 랜덤값\n",
    "print_val(x)"
   ]
  },
  {
   "cell_type": "code",
   "execution_count": 6,
   "id": "ca1e02f6",
   "metadata": {},
   "outputs": [
    {
     "name": "stdout",
     "output_type": "stream",
     "text": [
      "Type: <class 'torch.Tensor'>\n",
      "Shape: torch.Size([4])\n",
      "값:\n",
      "tensor([3, 1, 2, 0])\n",
      " \n"
     ]
    }
   ],
   "source": [
    "x = torch.randperm(4) # 0 ~ n-1 까지 값을 원소로 갖는 배열 -> 랜덤 배열\n",
    "print_val(x)"
   ]
  },
  {
   "cell_type": "code",
   "execution_count": 7,
   "id": "3235dd3d",
   "metadata": {},
   "outputs": [
    {
     "name": "stdout",
     "output_type": "stream",
     "text": [
      "Type: <class 'torch.Tensor'>\n",
      "Shape: torch.Size([6])\n",
      "값:\n",
      "tensor([0.0000, 0.5000, 1.0000, 1.5000, 2.0000, 2.5000])\n",
      " \n"
     ]
    }
   ],
   "source": [
    "# [start, end] 구간을 step 단위로 나눠서 배열로 생성\n",
    "x = torch.arange(0, 3, step=0.5)\n",
    "print_val(x)"
   ]
  },
  {
   "cell_type": "code",
   "execution_count": 8,
   "id": "d6b94afa",
   "metadata": {},
   "outputs": [
    {
     "name": "stdout",
     "output_type": "stream",
     "text": [
      "Type: <class 'torch.Tensor'>\n",
      "Shape: torch.Size([3, 4])\n",
      "값:\n",
      "tensor([[1., 1., 1., 1.],\n",
      "        [1., 1., 1., 1.],\n",
      "        [1., 1., 1., 1.]])\n",
      " \n",
      "Type: <class 'torch.Tensor'>\n",
      "Shape: torch.Size([3, 4])\n",
      "값:\n",
      "tensor([[0., 0., 0., 0.],\n",
      "        [0., 0., 0., 0.],\n",
      "        [0., 0., 0., 0.]])\n",
      " \n"
     ]
    }
   ],
   "source": [
    "print_val( torch.ones(3,4) )\n",
    "print_val( torch.zeros(3,4) )"
   ]
  },
  {
   "cell_type": "code",
   "execution_count": 9,
   "id": "01b707da",
   "metadata": {},
   "outputs": [
    {
     "name": "stdout",
     "output_type": "stream",
     "text": [
      "Type: <class 'torch.Tensor'>\n",
      "Shape: torch.Size([2, 4])\n",
      "값:\n",
      "tensor([[ 3.8399e+01,  4.5612e-41,  3.8399e+01,  4.5612e-41],\n",
      "        [-3.7331e-26,  3.0840e-41,  2.6804e+01,  4.5612e-41]])\n",
      " \n"
     ]
    }
   ],
   "source": [
    "print_val( torch.Tensor(2,4) )"
   ]
  },
  {
   "cell_type": "code",
   "execution_count": 10,
   "id": "7c75dd68",
   "metadata": {},
   "outputs": [
    {
     "name": "stdout",
     "output_type": "stream",
     "text": [
      "Type: <class 'torch.Tensor'>\n",
      "Shape: torch.Size([2])\n",
      "값:\n",
      "tensor([2., 3.])\n",
      " \n",
      "Type: <class 'torch.Tensor'>\n",
      "Shape: torch.Size([2, 2])\n",
      "값:\n",
      "tensor([[2., 3.],\n",
      "        [3., 4.]])\n",
      " \n"
     ]
    }
   ],
   "source": [
    "print_val( torch.Tensor([2,3]) )\n",
    "\n",
    "print_val( torch.Tensor([[2,3], [3,4]]) )"
   ]
  },
  {
   "cell_type": "code",
   "execution_count": 11,
   "id": "16ac5815",
   "metadata": {},
   "outputs": [
    {
     "name": "stdout",
     "output_type": "stream",
     "text": [
      "Type: <class 'torch.Tensor'>\n",
      "Shape: torch.Size([2, 3])\n",
      "값:\n",
      "tensor([[3.8399e+01, 4.5612e-41, 3.8399e+01],\n",
      "        [4.5612e-41, 0.0000e+00, 0.0000e+00]])\n",
      " \n",
      "Type: <class 'torch.Tensor'>\n",
      "Shape: torch.Size([2, 3])\n",
      "값:\n",
      "tensor([[38,  0, 38],\n",
      "        [ 0,  0,  0]], dtype=torch.int32)\n",
      " \n"
     ]
    }
   ],
   "source": [
    "# 텐서 타입 변환\n",
    "x = torch.FloatTensor(2,3)\n",
    "print_val(x)\n",
    "\n",
    "x = x.type_as(torch.IntTensor())\n",
    "print_val(x)"
   ]
  },
  {
   "cell_type": "code",
   "execution_count": 12,
   "id": "8d3ce084",
   "metadata": {},
   "outputs": [
    {
     "data": {
      "text/plain": [
       "torch.Size([3, 4, 5])"
      ]
     },
     "execution_count": 12,
     "metadata": {},
     "output_type": "execute_result"
    }
   ],
   "source": [
    "# 텐서 크기 변환\n",
    "torch. FloatTensor(3,4,5).size()"
   ]
  },
  {
   "cell_type": "code",
   "execution_count": 13,
   "id": "e48be01f",
   "metadata": {},
   "outputs": [
    {
     "name": "stdout",
     "output_type": "stream",
     "text": [
      "Type: <type 'numpy.ndarray'>\n",
      "Shape: (2, 3)\n",
      "값:\n",
      "[[139802294458472 139802294458472 139800169664656]\n",
      " [    25769803782     25769803782     25769803782]]\n",
      " \n",
      "Type: <class 'torch.Tensor'>\n",
      "Shape: torch.Size([2, 3])\n",
      "값:\n",
      "tensor([[139802294458472, 139802294458472, 139800169664656],\n",
      "        [    25769803782,     25769803782,     25769803782]])\n",
      " \n"
     ]
    }
   ],
   "source": [
    "# numpy array -> torch tensor\n",
    "import numpy as np\n",
    "np_x = np.ndarray((2,3), dtype=int)\n",
    "print_val(np_x)\n",
    "\n",
    "x = torch.from_numpy(np_x)\n",
    "print_val(x)"
   ]
  }
 ],
 "metadata": {
  "kernelspec": {
   "display_name": "conda_pytorch_p27",
   "language": "python",
   "name": "conda_pytorch_p27"
  },
  "language_info": {
   "codemirror_mode": {
    "name": "ipython",
    "version": 2
   },
   "file_extension": ".py",
   "mimetype": "text/x-python",
   "name": "python",
   "nbconvert_exporter": "python",
   "pygments_lexer": "ipython2",
   "version": "2.7.16"
  }
 },
 "nbformat": 4,
 "nbformat_minor": 5
}
