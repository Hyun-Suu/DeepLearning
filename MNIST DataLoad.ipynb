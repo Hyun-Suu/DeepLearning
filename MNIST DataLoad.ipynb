{
 "cells": [
  {
   "cell_type": "code",
   "execution_count": 2,
   "id": "f87815de",
   "metadata": {},
   "outputs": [],
   "source": [
    "import torch\n",
    "import torchvision.datasets as dset\n",
    "import torchvision.transforms as transforms\n",
    "from torch.utils.data import DataLoader\n",
    "from torch.autograd import Variable\n",
    "import matplotlib.pyplot as plt\n",
    "%matplotlib inline"
   ]
  },
  {
   "cell_type": "markdown",
   "id": "a2bc687d",
   "metadata": {},
   "source": [
    "## MNIST는 어떻게 생겼나"
   ]
  },
  {
   "cell_type": "code",
   "execution_count": 5,
   "id": "8796cd6c",
   "metadata": {},
   "outputs": [
    {
     "name": "stdout",
     "output_type": "stream",
     "text": [
      "torch.Size([1, 28, 28]) 5\n",
      "torch.Size([1, 28, 28]) 0\n",
      "60000\n",
      "mnist_train 길이: 60000\n",
      "5\n",
      "<built-in method size of Tensor object at 0x7f8eeceb47d0>\n"
     ]
    },
    {
     "data": {
      "image/png": "[encoded data removed]",
      "text/plain": [
       "<Figure size 432x288 with 1 Axes>"
      ]
     },
     "metadata": {
      "needs_background": "light"
     },
     "output_type": "display_data"
    },
    {
     "data": {
      "image/png": "[encoded data removed]",
      "text/plain": [
       "<Figure size 432x288 with 1 Axes>"
      ]
     },
     "metadata": {
      "needs_background": "light"
     },
     "output_type": "display_data"
    },
    {
     "data": {
      "image/png": "[encoded data removed]",
      "text/plain": [
       "<Figure size 432x288 with 1 Axes>"
      ]
     },
     "metadata": {
      "needs_background": "light"
     },
     "output_type": "display_data"
    }
   ],
   "source": [
    "# 1. MNIST 로드\n",
    "mnist_train = dset.MNIST(\"\", train=True, transform=transforms.ToTensor(), # train용으로 쓰겠다.\n",
    "                        target_transform=None, download=True)\n",
    "\n",
    "# 2. 그려보기\n",
    "# MNIST data 하나 형태 출력\n",
    "image, label = mnist_train.__getitem__(0) # image = mnist.train[0][0], label = mnist.train[0][1]\n",
    "print image.size(), label\n",
    "\n",
    "image, label = mnist_train[1]\n",
    "print image.size(), label\n",
    "\n",
    "print mnist_train.__len__()\n",
    "print \"mnist_train 길이:\", len(mnist_train)\n",
    "\n",
    "# 그리기\n",
    "print mnist_train[0][1] # label\n",
    "print mnist_train[0][0].size # image\n",
    "\n",
    "for i in range(3):\n",
    "    img = mnist_train[i][0].numpy() # image 타입을 numpy로 변환 (1, 28, 28)\n",
    "    # print \"label:\", mnist_train[i][1]\n",
    "    plt.title(\"label: %d\" %mnist_train[i][1])\n",
    "    plt.imshow(img[0], cmap='gray')\n",
    "    plt.show()"
   ]
  },
  {
   "cell_type": "markdown",
   "id": "2567dd5c",
   "metadata": {},
   "source": [
    "## MNIST train, test dataset 가져오기"
   ]
  },
  {
   "cell_type": "code",
   "execution_count": 6,
   "id": "d8035b39",
   "metadata": {},
   "outputs": [],
   "source": [
    "# \"\": 현재 폴더에 MNIST 있음\n",
    "mnist_train=dset.MNIST(\"\", train=True, transform=transforms.ToTensor(), # train용\n",
    "                      target_transform=None, download=True)\n",
    "mnist_test=dset.MNIST(\"\", train=False, transform=transforms.ToTensor(), # test용\n",
    "                      target_transform=None, download=True)"
   ]
  },
  {
   "cell_type": "markdown",
   "id": "efe1960a",
   "metadata": {},
   "source": [
    "## 대력적인 데이터 형태"
   ]
  },
  {
   "cell_type": "code",
   "execution_count": 7,
   "id": "dea08072",
   "metadata": {},
   "outputs": [
    {
     "name": "stdout",
     "output_type": "stream",
     "text": [
      "mnist_train 길이:  60000\n",
      "mnist_test 길이:  10000\n",
      "image data 형태: torch.Size([1, 28, 28])\n",
      "label: 5\n"
     ]
    },
    {
     "data": {
      "image/png": "[encoded data removed]",
      "text/plain": [
       "<Figure size 432x288 with 1 Axes>"
      ]
     },
     "metadata": {
      "needs_background": "light"
     },
     "output_type": "display_data"
    }
   ],
   "source": [
    "print \"mnist_train 길이: \", len(mnist_train)\n",
    "print \"mnist_test 길이: \", len(mnist_test)\n",
    "\n",
    "# 데이터 하나 형태\n",
    "image, label = mnist_train.__getitem__(0) # 0번째 데이터\n",
    "print \"image data 형태:\", image.size()\n",
    "print \"label:\", label\n",
    "\n",
    "# 그리기\n",
    "img = image.numpy() # image 타입을 numpy로 변환 (1,28,28)\n",
    "plt.title(\"label: %d\" %label)\n",
    "plt.imshow(img[0], cmap='gray')\n",
    "plt.show()"
   ]
  },
  {
   "cell_type": "markdown",
   "id": "1df1d9c6",
   "metadata": {},
   "source": [
    "## 데이터 로드함수\n",
    "핛습시킬 때 batch_size 단위로 끊어서 로드하기 위함"
   ]
  },
  {
   "cell_type": "code",
   "execution_count": 8,
   "id": "098bba10",
   "metadata": {},
   "outputs": [],
   "source": [
    "batch_size = 16"
   ]
  },
  {
   "cell_type": "code",
   "execution_count": 9,
   "id": "ef2ec1ac",
   "metadata": {},
   "outputs": [],
   "source": [
    "train_loader = torch.utils.data.DataLoader(list(mnist_train)[:batch_size*100], batch_size=batch_size,\n",
    "                                          #mnist_train을 트레인 시키자.\n",
    "                                          shuffle=True, num_workers=2,\n",
    "                                          drop_last=True) # batch_size만큼 나눌 때 나머지는 버려라\n",
    "test_loader = torch.utils.data.DataLoader((mnist_train), batch_size=batch_size,\n",
    "                                          shuffle=False, num_workers=2,\n",
    "                                          drop_last=True)"
   ]
  },
  {
   "cell_type": "markdown",
   "id": "aa47b5a8",
   "metadata": {},
   "source": [
    "## 데이터 로드함수 이해하기"
   ]
  },
  {
   "cell_type": "code",
   "execution_count": 12,
   "id": "29526b9d",
   "metadata": {},
   "outputs": [
    {
     "name": "stdout",
     "output_type": "stream",
     "text": [
      "[0]\n",
      "한번에 로드되는 데이터 크기: 16\n",
      "torch.Size([16, 28, 28])\n",
      "torch.Size([16])\n"
     ]
    },
    {
     "data": {
      "image/png": "[encoded data removed]",
      "text/plain": [
       "<Figure size 432x288 with 3 Axes>"
      ]
     },
     "metadata": {
      "needs_background": "light"
     },
     "output_type": "display_data"
    },
    {
     "name": "stdout",
     "output_type": "stream",
     "text": [
      "[1]\n",
      "한번에 로드되는 데이터 크기: 16\n",
      "torch.Size([16, 28, 28])\n",
      "torch.Size([16])\n"
     ]
    },
    {
     "data": {
      "image/png": "[encoded data removed]",
      "text/plain": [
       "<Figure size 432x288 with 3 Axes>"
      ]
     },
     "metadata": {
      "needs_background": "light"
     },
     "output_type": "display_data"
    },
    {
     "name": "stdout",
     "output_type": "stream",
     "text": [
      "[2]\n",
      "한번에 로드되는 데이터 크기: 16\n",
      "torch.Size([16, 28, 28])\n",
      "torch.Size([16])\n"
     ]
    },
    {
     "data": {
      "image/png": "[encoded data removed]",
      "text/plain": [
       "<Figure size 432x288 with 3 Axes>"
      ]
     },
     "metadata": {
      "needs_background": "light"
     },
     "output_type": "display_data"
    },
    {
     "name": "stdout",
     "output_type": "stream",
     "text": [
      "[3]\n",
      "한번에 로드되는 데이터 크기: 16\n",
      "torch.Size([16, 28, 28])\n",
      "torch.Size([16])\n"
     ]
    },
    {
     "data": {
      "image/png": "[encoded data removed]",
      "text/plain": [
       "<Figure size 432x288 with 3 Axes>"
      ]
     },
     "metadata": {
      "needs_background": "light"
     },
     "output_type": "display_data"
    },
    {
     "name": "stdout",
     "output_type": "stream",
     "text": [
      "[4]\n",
      "한번에 로드되는 데이터 크기: 16\n",
      "torch.Size([16, 28, 28])\n",
      "torch.Size([16])\n"
     ]
    },
    {
     "data": {
      "image/png": "[encoded data removed]",
      "text/plain": [
       "<Figure size 432x288 with 3 Axes>"
      ]
     },
     "metadata": {
      "needs_background": "light"
     },
     "output_type": "display_data"
    },
    {
     "name": "stdout",
     "output_type": "stream",
     "text": [
      "[5]\n",
      "한번에 로드되는 데이터 크기: 16\n",
      "torch.Size([16, 28, 28])\n",
      "torch.Size([16])\n"
     ]
    },
    {
     "data": {
      "image/png": "[encoded data removed]",
      "text/plain": [
       "<Figure size 432x288 with 3 Axes>"
      ]
     },
     "metadata": {
      "needs_background": "light"
     },
     "output_type": "display_data"
    }
   ],
   "source": [
    "n = 3 # 샘플로 그려볼 데이터 개수\n",
    "for i, [imgs, labels] in enumerate(test_loader): # batch_size만큼\n",
    "    if i>5:\n",
    "        break\n",
    "        \n",
    "    print \"[%d]\" %i\n",
    "    print \"한번에 로드되는 데이터 크기:\", len(imgs)\n",
    "    \n",
    "    x = Variable(imgs) # (batch_size, 1, 28, 28)\n",
    "    x = x.reshape((x.shape[0], x.shape[2], x.shape[3])) # (batch_size, 28, 28)\n",
    "    y = Variable(labels) # (batch_size)\n",
    "    \n",
    "    print x.shape\n",
    "    print y.shape\n",
    "    \n",
    "    # 그리기\n",
    "    for j in range(n):\n",
    "        img = imgs[j].numpy() # image 타입을 numpy로 변환 (1, 28, 28)\n",
    "        img = img.reshape((img.shape[1], img.shape[2])) # (28, 28)\n",
    "        # print img.shape\n",
    "        \n",
    "        plt.subplot(1, n, j+1) # (1,3) 형태 플랏의 j번재 자리에 그리겠다\n",
    "        plt.imshow(img, cmap='gray')\n",
    "        plt.title(\"labelL %d\" %labels[j])\n",
    "    plt.show()"
   ]
  }
 ],
 "metadata": {
  "kernelspec": {
   "display_name": "conda_pytorch_p27",
   "language": "python",
   "name": "conda_pytorch_p27"
  },
  "language_info": {
   "codemirror_mode": {
    "name": "ipython",
    "version": 2
   },
   "file_extension": ".py",
   "mimetype": "text/x-python",
   "name": "python",
   "nbconvert_exporter": "python",
   "pygments_lexer": "ipython2",
   "version": "2.7.16"
  }
 },
 "nbformat": 4,
 "nbformat_minor": 5
}
